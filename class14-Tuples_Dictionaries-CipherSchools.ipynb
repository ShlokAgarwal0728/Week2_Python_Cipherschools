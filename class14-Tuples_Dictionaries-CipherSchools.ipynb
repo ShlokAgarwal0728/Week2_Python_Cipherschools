{
 "cells": [
  {
   "cell_type": "code",
   "execution_count": null,
   "metadata": {},
   "outputs": [],
   "source": [
    "a=[1,2,3]\n",
    "a[0]=100\n",
    "a[2]=200\n",
    "a"
   ]
  },
  {
   "cell_type": "code",
   "execution_count": null,
   "metadata": {},
   "outputs": [],
   "source": [
    "a=(1,2,3,4,5,6)\n",
    "type(a)"
   ]
  },
  {
   "cell_type": "code",
   "execution_count": null,
   "metadata": {},
   "outputs": [],
   "source": [
    "a[0]=10\n",
    "a"
   ]
  },
  {
   "cell_type": "code",
   "execution_count": null,
   "metadata": {},
   "outputs": [],
   "source": [
    "def func(*args):\n",
    "  print(type(args))\n",
    "func(1,2,3)"
   ]
  },
  {
   "cell_type": "code",
   "execution_count": null,
   "metadata": {},
   "outputs": [],
   "source": [
    "a=5\n",
    "b=9\n",
    "a,b=b,a\n",
    "c=a,b\n",
    "type(c)"
   ]
  },
  {
   "cell_type": "code",
   "execution_count": null,
   "metadata": {},
   "outputs": [],
   "source": [
    "def add_sum(a,b):\n",
    "  s=a+b\n",
    "  d=a-b\n",
    "  return s,d\n",
    "c=add_sum(10,5)\n",
    "print(type(c))\n",
    "print(c)\n",
    "s,d=add_sum(10,5)\n",
    "print(s,d)"
   ]
  },
  {
   "cell_type": "code",
   "execution_count": null,
   "metadata": {},
   "outputs": [],
   "source": [
    "a=1,2,3,4\n",
    "type(a)"
   ]
  },
  {
   "cell_type": "code",
   "execution_count": null,
   "metadata": {},
   "outputs": [],
   "source": [
    "#@title List to tuple and tuple to list\n",
    "a=(1,2,3,4)\n",
    "list(a)"
   ]
  },
  {
   "cell_type": "code",
   "execution_count": null,
   "metadata": {},
   "outputs": [],
   "source": [
    "list(range(5))"
   ]
  },
  {
   "cell_type": "code",
   "execution_count": null,
   "metadata": {},
   "outputs": [],
   "source": [
    "tuple(range(5))"
   ]
  },
  {
   "cell_type": "code",
   "execution_count": null,
   "metadata": {},
   "outputs": [],
   "source": [
    "#@title Return multiple values from functions(The returned thing is a tuple!)"
   ]
  },
  {
   "cell_type": "code",
   "execution_count": null,
   "metadata": {},
   "outputs": [],
   "source": [
    "a=(1,2,3,4,5,6)\n",
    "a=[1,2,3,4]\n",
    "a.append(4)\n",
    "a.append(3)\n",
    "print(a)"
   ]
  },
  {
   "cell_type": "code",
   "execution_count": null,
   "metadata": {},
   "outputs": [],
   "source": [
    "#@title Dictionary\n",
    "'''py [1,2,3,4] here we cannot change index number a[0]'''\n",
    "'''a=dict()\n",
    "a[\"name\"]\n",
    "a[1]\n",
    "a[(1,2)]''"
   ]
  },
  {
   "cell_type": "code",
   "execution_count": null,
   "metadata": {},
   "outputs": [],
   "source": [
    "a={\n",
    "    \"name\":\"Jatin Katyal\",\n",
    "    1:\"something\",\n",
    "   (1,2):\"tuple key wat?\"\n",
    "}\n",
    "a['name']"
   ]
  },
  {
   "cell_type": "code",
   "execution_count": null,
   "metadata": {},
   "outputs": [],
   "source": [
    "a[1]"
   ]
  },
  {
   "cell_type": "code",
   "execution_count": null,
   "metadata": {},
   "outputs": [],
   "source": [
    "a[(1,2)]"
   ]
  },
  {
   "cell_type": "code",
   "execution_count": null,
   "metadata": {},
   "outputs": [],
   "source": [
    "a={\n",
    "    [1,2]:\"something\"\n",
    "}"
   ]
  },
  {
   "cell_type": "code",
   "execution_count": null,
   "metadata": {},
   "outputs": [],
   "source": [
    "#@title Some impotant dict method\n",
    "# . get()\n",
    "# . items()\n",
    "# . keys()\n",
    "# . values()\n",
    "# . clear()"
   ]
  },
  {
   "cell_type": "code",
   "execution_count": null,
   "metadata": {},
   "outputs": [],
   "source": [
    "c={\n",
    "    \"n\" :\"Jatin Katyal\"\n",
    "}\n",
    "c[\"n\"]=\"Gourav\"\n",
    "print(c)"
   ]
  },
  {
   "cell_type": "code",
   "execution_count": null,
   "metadata": {},
   "outputs": [],
   "source": [
    "d={\n",
    "     \"n\":\"jatin\",\n",
    "     \"Company\":\"shuttl\",\n",
    "     \"College\":\"IPU\"\n",
    " }\n",
    "d['College']"
   ]
  },
  {
   "cell_type": "code",
   "execution_count": null,
   "metadata": {},
   "outputs": [],
   "source": [
    "d[\"Company\"]"
   ]
  },
  {
   "cell_type": "code",
   "execution_count": null,
   "metadata": {},
   "outputs": [],
   "source": [
    "d[\"marks\"]"
   ]
  },
  {
   "cell_type": "code",
   "execution_count": null,
   "metadata": {},
   "outputs": [],
   "source": [
    "key=\"marks\"\n",
    "if key in d:\n",
    "  print(d[key])\n",
    "else:\n",
    "  print(\"key doesn't exist\")"
   ]
  },
  {
   "cell_type": "code",
   "execution_count": null,
   "metadata": {},
   "outputs": [],
   "source": [
    "key=\"marks\"\n",
    "print(a.get(key))\n",
    "     "
   ]
  },
  {
   "cell_type": "code",
   "execution_count": null,
   "metadata": {},
   "outputs": [],
   "source": [
    "key=\"marks\"\n",
    "print(a.get(key,\"key doesn't exist\"))"
   ]
  },
  {
   "cell_type": "code",
   "execution_count": null,
   "metadata": {},
   "outputs": [],
   "source": [
    "key=\"n\"\n",
    "print(a.get(key,\"key doesn't exist\"))"
   ]
  },
  {
   "cell_type": "code",
   "execution_count": null,
   "metadata": {},
   "outputs": [],
   "source": [
    "d.keys()"
   ]
  },
  {
   "cell_type": "code",
   "execution_count": null,
   "metadata": {},
   "outputs": [],
   "source": [
    "d.values()"
   ]
  },
  {
   "cell_type": "code",
   "execution_count": null,
   "metadata": {},
   "outputs": [],
   "source": [
    "for x in d.items():\n",
    "  print(x)"
   ]
  },
  {
   "cell_type": "code",
   "execution_count": null,
   "metadata": {},
   "outputs": [],
   "source": [
    "for x,value in d.items():\n",
    "  print(x,\"->\",value)"
   ]
  },
  {
   "cell_type": "code",
   "execution_count": null,
   "metadata": {},
   "outputs": [],
   "source": [
    "d"
   ]
  },
  {
   "cell_type": "code",
   "execution_count": null,
   "metadata": {},
   "outputs": [],
   "source": [
    "for x in d:\n",
    "  print(x)"
   ]
  },
  {
   "cell_type": "code",
   "execution_count": null,
   "metadata": {},
   "outputs": [],
   "source": [
    "list(d)"
   ]
  },
  {
   "cell_type": "code",
   "execution_count": null,
   "metadata": {},
   "outputs": [],
   "source": [
    "# Challenge\n",
    "# Write a simple program which inputs and store the data about university students as a list of dictionaries. your final record structure should look like this:\n",
    "# [\n",
    "#     {\n",
    "#         'roll-no':1211,\n",
    "#      'name':'Ravi'\n",
    "#      'branch':'cse'\n",
    "#     }\n",
    "#     {\n",
    "#         'roll-no':202,\n",
    "#      'name':'Abhishek'\n",
    "#      'branch':'SE'\n",
    "#     }\n",
    "#     {\n",
    "#         'roll-no':1202,\n",
    "#      'name':'Sachin'\n",
    "#      'branch':'IT'\n",
    "#     }\n",
    "# ]"
   ]
  },
  {
   "cell_type": "code",
   "execution_count": null,
   "metadata": {},
   "outputs": [],
   "source": [
    "students = []  # create an empty list to store student records\n",
    "\n",
    "num_students = int(input(\"Enter the number of students: \"))\n",
    "\n",
    "# input and store student records\n",
    "for i in range(num_students):\n",
    "    # create an empty dictionary to store student information\n",
    "    student = {}\n",
    "    \n",
    "    # input and store student information\n",
    "    student['roll-no'] = input(\"Enter student roll-no.: \")\n",
    "    student['name'] = input(\"Enter student name: \")\n",
    "    student['branch'] = input(\"Enter student branch: \")\n",
    "    \n",
    "    # append student dictionary to the list of students\n",
    "    students.append(student)\n",
    "    \n",
    "# print student records\n",
    "for student in students:\n",
    "    print(f\"roll-no: {student['roll-no']}\")\n",
    "    print(f\"name: {student['name']}\")\n",
    "    print(f\"branch: {student['branch']}\")"
   ]
  }
 ],
 "metadata": {
  "kernelspec": {
   "display_name": "Python 3",
   "language": "python",
   "name": "python3"
  },
  "language_info": {
   "name": "python",
   "version": "3.10.7 (tags/v3.10.7:6cc6b13, Sep  5 2022, 14:08:36) [MSC v.1933 64 bit (AMD64)]"
  },
  "orig_nbformat": 4,
  "vscode": {
   "interpreter": {
    "hash": "d49c3f6d6dd49f9272b571d9fad348ab55b8c6c3f691520d74ed0af1f69c3dd8"
   }
  }
 },
 "nbformat": 4,
 "nbformat_minor": 2
}
