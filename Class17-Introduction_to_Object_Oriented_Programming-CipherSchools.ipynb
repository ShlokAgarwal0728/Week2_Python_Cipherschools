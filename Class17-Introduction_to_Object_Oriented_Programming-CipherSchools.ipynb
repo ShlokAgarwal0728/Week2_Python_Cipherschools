{
 "cells": [
  {
   "cell_type": "code",
   "execution_count": null,
   "metadata": {},
   "outputs": [],
   "source": [
    "#object orientated programming language"
   ]
  },
  {
   "cell_type": "code",
   "execution_count": null,
   "metadata": {},
   "outputs": [],
   "source": [
    "\n",
    "#Abstraction\n",
    "#Encapsulation\n",
    "#inheitence\n",
    "#polymorphism"
   ]
  },
  {
   "cell_type": "code",
   "execution_count": null,
   "metadata": {},
   "outputs": [],
   "source": [
    "\n",
    "#Abstraction = need to know basis"
   ]
  },
  {
   "cell_type": "code",
   "execution_count": null,
   "metadata": {},
   "outputs": [],
   "source": [
    "student1 = {\n",
    "    \"name\":\"Jatin Katyal\",\n",
    "    \"marks\": 50\n",
    "}\n",
    "student2 = {\n",
    "    \"name\": \"Samarth\",\n",
    "    \"marks\": 100\n",
    "}"
   ]
  },
  {
   "cell_type": "code",
   "execution_count": null,
   "metadata": {},
   "outputs": [],
   "source": [
    "print()"
   ]
  },
  {
   "cell_type": "code",
   "execution_count": null,
   "metadata": {},
   "outputs": [],
   "source": [
    "#python object can have multiple attributes\n",
    "\n",
    "#-collable(e.g. functions and classes)\n",
    "#-iterable(e.g. list,string and generator)\n",
    "#-contextable(e.g. files)"
   ]
  },
  {
   "cell_type": "code",
   "execution_count": null,
   "metadata": {},
   "outputs": [],
   "source": [
    "a()"
   ]
  },
  {
   "cell_type": "code",
   "execution_count": null,
   "metadata": {},
   "outputs": [],
   "source": [
    "class person:\n",
    "  pass\n",
    "\n",
    "p = person()\n",
    "print(p)"
   ]
  },
  {
   "cell_type": "code",
   "execution_count": null,
   "metadata": {},
   "outputs": [],
   "source": [
    "hex(id(p))"
   ]
  },
  {
   "cell_type": "code",
   "execution_count": null,
   "metadata": {},
   "outputs": [],
   "source": [
    "a=1"
   ]
  },
  {
   "cell_type": "code",
   "execution_count": null,
   "metadata": {},
   "outputs": [],
   "source": [
    "a.square"
   ]
  },
  {
   "cell_type": "code",
   "execution_count": null,
   "metadata": {},
   "outputs": [],
   "source": [
    "class person:\n",
    "  name=\"Jatin\"\n",
    "  def say_hi(self):\n",
    "    self.name=\"Nikhil\"\n",
    "    print(\"Hello,how are you\"+self.name +\"2\")\n",
    "\n",
    "p=person()\n",
    "\n",
    "p.say_hi\n",
    "person.say_hi(p)"
   ]
  },
  {
   "cell_type": "code",
   "execution_count": null,
   "metadata": {},
   "outputs": [],
   "source": [
    "class person:\n",
    "  name=\"Jatin\"\n",
    "\n",
    "  def say_hi(this):\n",
    "    print(f\"Hello Everyone : I am {this.name}\" )\n",
    "\n",
    "p=person()\n",
    "\n",
    "p.say_hi #method cell\n",
    "person.say_hi(p) # function call"
   ]
  }
 ],
 "metadata": {
  "language_info": {
   "name": "python"
  },
  "orig_nbformat": 4
 },
 "nbformat": 4,
 "nbformat_minor": 2
}
