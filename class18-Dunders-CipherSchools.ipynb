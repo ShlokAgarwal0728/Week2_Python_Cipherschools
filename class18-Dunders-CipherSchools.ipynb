{
 "cells": [
  {
   "cell_type": "code",
   "execution_count": null,
   "metadata": {},
   "outputs": [],
   "source": [
    "# Dunders(magic methods)(event methods)\n",
    "#____\n",
    "class Person:\n",
    "  def __init__(self,name):\n",
    "    self.name=name\n",
    "  def say_hi(self):\n",
    "      print('hello, my name is',self.name)\n",
    "P=Person('Nikhil')\n",
    "P.say_hi()"
   ]
  },
  {
   "cell_type": "code",
   "execution_count": null,
   "metadata": {},
   "outputs": [],
   "source": [
    "class A:\n",
    "  def __init__(self):\n",
    "    print(self)\n",
    "    print(\"initialized\")\n",
    "  def __del__(self):\n",
    "    print(self)\n",
    "    print(\"I am dying\")\n",
    "a=A()"
   ]
  },
  {
   "cell_type": "code",
   "execution_count": null,
   "metadata": {},
   "outputs": [],
   "source": [
    "a=1\n",
    "print(type(a))\n",
    "a+5\n",
    "a.__add__(5)"
   ]
  },
  {
   "cell_type": "code",
   "execution_count": null,
   "metadata": {},
   "outputs": [],
   "source": [
    "\"jatin\"*2"
   ]
  },
  {
   "cell_type": "code",
   "execution_count": null,
   "metadata": {},
   "outputs": [],
   "source": [
    "\"jatin\".__mul__(2)"
   ]
  },
  {
   "cell_type": "code",
   "execution_count": null,
   "metadata": {},
   "outputs": [],
   "source": [
    "class A:\n",
    "  a=1\n",
    "  b=2\n",
    "\n",
    "  def __add__(self,x):\n",
    "    return self.a+self.b+x\n",
    "a=A()\n",
    "a+3"
   ]
  }
 ],
 "metadata": {
  "language_info": {
   "name": "python"
  },
  "orig_nbformat": 4
 },
 "nbformat": 4,
 "nbformat_minor": 2
}
